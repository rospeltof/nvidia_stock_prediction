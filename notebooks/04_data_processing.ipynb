{
 "cells": [
  {
   "cell_type": "code",
   "execution_count": 1,
   "id": "4efb4ada-93e1-4503-8df4-ff3ee8c997dd",
   "metadata": {},
   "outputs": [],
   "source": [
    "import pandas as pd\n",
    "import os"
   ]
  },
  {
   "cell_type": "code",
   "execution_count": 3,
   "id": "d59a3fbd-e97b-45af-bd08-f296b7bd627c",
   "metadata": {},
   "outputs": [],
   "source": [
    "start_date = '2014-03-01'\n",
    "end_date = '2025-03-10'\n",
    "path = os.path.join('..', 'data', f'nvidia_data_{start_date}_{end_date}')"
   ]
  },
  {
   "cell_type": "code",
   "execution_count": null,
   "id": "a708b4b2-07ea-4cb5-848d-e786e8ae0e96",
   "metadata": {},
   "outputs": [],
   "source": [
    "class Preprocessor(object):\n",
    "    def __init__(self):\n",
    "        "
   ]
  }
 ],
 "metadata": {
  "kernelspec": {
   "display_name": "Python 3 (ipykernel)",
   "language": "python",
   "name": "python3"
  },
  "language_info": {
   "codemirror_mode": {
    "name": "ipython",
    "version": 3
   },
   "file_extension": ".py",
   "mimetype": "text/x-python",
   "name": "python",
   "nbconvert_exporter": "python",
   "pygments_lexer": "ipython3",
   "version": "3.11.9"
  }
 },
 "nbformat": 4,
 "nbformat_minor": 5
}
