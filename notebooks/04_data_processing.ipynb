{
 "cells": [
  {
   "cell_type": "code",
   "execution_count": 19,
   "id": "4efb4ada-93e1-4503-8df4-ff3ee8c997dd",
   "metadata": {},
   "outputs": [],
   "source": [
    "import pandas as pd\n",
    "import os\n",
    "import numpy as np"
   ]
  },
  {
   "cell_type": "code",
   "execution_count": 20,
   "id": "d59a3fbd-e97b-45af-bd08-f296b7bd627c",
   "metadata": {},
   "outputs": [],
   "source": [
    "start_date = '2014-03-01'\n",
    "end_date = '2025-03-10'\n",
    "data_path = os.path.join('..', 'data', f'nvidia_data_{start_date}_{end_date}')\n",
    "nvda_df = pd.read_csv(data_path)"
   ]
  },
  {
   "cell_type": "code",
   "execution_count": 37,
   "id": "a708b4b2-07ea-4cb5-848d-e786e8ae0e96",
   "metadata": {},
   "outputs": [],
   "source": [
    "class DataProcessor(object):\n",
    "    def __init__(self):\n",
    "        \n",
    "        self.keep_cols = ['Date', 'Close_NVDA', 'Close_QQQ', 'Close_^VIX','Volume_NVDA',\n",
    "       'Close_SMH', 'Close_SOXX', 'Close_XSD', 'Close_^DJI', 'Close_^GSPC', 'Close_^IXIC',\n",
    "       'Volume_QQQ', 'Volume_SMH', 'Volume_SOXX', 'Volume_XSD', 'Volume_^DJI',\n",
    "       'Volume_^GSPC', 'Volume_^IXIC', 'rsi', 'macd', 'macd_diff', 'stoch_k',\n",
    "       'stoch_d', 'Month', 'Dayofweek']\n",
    "        self.skewed_cols = ['Volume_NVDA', 'Volume_QQQ', 'Volume_SMH', 'Volume_SOXX', 'Volume_XSD', 'Volume_^DJI',\n",
    "       'Volume_^GSPC', 'Volume_^IXIC', 'Close_SMH', 'Close_NVDA', 'Close_^VIX']\n",
    "        \n",
    "    def preprocess_data_for_training(self, df):\n",
    "        '''\n",
    "        Aplica transformaciónes matematicas a los datos y selecciona algunas columnas definidas en el notebook 03\n",
    "        '''\n",
    "        df = df.copy()\n",
    "    \n",
    "        df = df[self.keep_cols]\n",
    "        df.dropna() #Botar los datos \n",
    "        \n",
    "        #Transformar las columnas\n",
    "        for col in self.skewed_cols:\n",
    "            df[col] = np.log1p(df[col])\n",
    "        #Aplicar logaritmica con signo\n",
    "        df['macd'] = np.sign(df['macd']) * np.log1p(np.abs(df['macd']))\n",
    "\n",
    "\n",
    "        return df\n",
    "\n",
    "    def create_target(self, df):\n",
    "        '''\n",
    "        Función que crea el target que es precio de nvidia al dia siguente de los datos de cierre que tenemos\n",
    "        '''\n",
    "        df = df.copy() \n",
    "        df['target'] = df['Close_NVDA'].shift(-1)\n",
    "        df['target'] = np.expm1(df['target'])\n",
    "\n",
    "        df.dropna(inplace=True) #Elimina el ultimo dato para el training pues no tiene target disponible\n",
    "\n",
    "        return df\n",
    "        \n",
    "        \n",
    "        "
   ]
  },
  {
   "cell_type": "code",
   "execution_count": 38,
   "id": "09d20471-7c1f-428c-9a93-01cd0f6e761e",
   "metadata": {},
   "outputs": [],
   "source": [
    "data_processor = DataProcessor()\n",
    "data_process = data_processor.preprocess_data_for_training(nvda_df)"
   ]
  },
  {
   "cell_type": "code",
   "execution_count": 39,
   "id": "c80c7880-c349-4a27-b09a-255090062821",
   "metadata": {},
   "outputs": [
    {
     "data": {
      "text/plain": [
       "Close_NVDA      0.389807\n",
       "Close_QQQ       0.629095\n",
       "Close_^VIX      0.884100\n",
       "Volume_NVDA     0.140079\n",
       "Close_SMH       0.163365\n",
       "Close_SOXX      0.744385\n",
       "Close_XSD       0.436048\n",
       "Close_^DJI      0.281168\n",
       "Close_^GSPC     0.630853\n",
       "Close_^IXIC     0.541979\n",
       "Volume_QQQ      0.130370\n",
       "Volume_SMH     -0.170950\n",
       "Volume_SOXX    -0.564514\n",
       "Volume_XSD      0.358153\n",
       "Volume_^DJI    -0.744349\n",
       "Volume_^GSPC    0.383649\n",
       "Volume_^IXIC    0.236521\n",
       "rsi            -0.088880\n",
       "macd            0.971241\n",
       "macd_diff      -0.324383\n",
       "stoch_k        -0.449128\n",
       "stoch_d        -0.448524\n",
       "Month          -0.011926\n",
       "Dayofweek      -0.011044\n",
       "dtype: float64"
      ]
     },
     "execution_count": 39,
     "metadata": {},
     "output_type": "execute_result"
    }
   ],
   "source": [
    "data_process.skew(numeric_only= True) #Para nuevos procesos de entrenamiento revisar esto"
   ]
  },
  {
   "cell_type": "code",
   "execution_count": 40,
   "id": "7394ffe8-bfb3-4373-9017-f9e19dbdb3df",
   "metadata": {},
   "outputs": [],
   "source": [
    "data_w_target = data_processor.create_target(data_process)"
   ]
  },
  {
   "cell_type": "code",
   "execution_count": 42,
   "id": "3c969ebc-6603-401b-9b27-fd6482ca0f28",
   "metadata": {},
   "outputs": [
    {
     "data": {
      "text/plain": [
       "Index(['Date', 'Close_NVDA', 'Close_QQQ', 'Close_^VIX', 'Volume_NVDA',\n",
       "       'Close_SMH', 'Close_SOXX', 'Close_XSD', 'Close_^DJI', 'Close_^GSPC',\n",
       "       'Close_^IXIC', 'Volume_QQQ', 'Volume_SMH', 'Volume_SOXX', 'Volume_XSD',\n",
       "       'Volume_^DJI', 'Volume_^GSPC', 'Volume_^IXIC', 'rsi', 'macd',\n",
       "       'macd_diff', 'stoch_k', 'stoch_d', 'Month', 'Dayofweek', 'target'],\n",
       "      dtype='object')"
      ]
     },
     "execution_count": 42,
     "metadata": {},
     "output_type": "execute_result"
    }
   ],
   "source": [
    "data_w_target.columns"
   ]
  },
  {
   "cell_type": "code",
   "execution_count": null,
   "id": "cb59faef-1c5b-4629-b837-4ba9f975fd61",
   "metadata": {},
   "outputs": [],
   "source": []
  }
 ],
 "metadata": {
  "kernelspec": {
   "display_name": "Python 3 (ipykernel)",
   "language": "python",
   "name": "python3"
  },
  "language_info": {
   "codemirror_mode": {
    "name": "ipython",
    "version": 3
   },
   "file_extension": ".py",
   "mimetype": "text/x-python",
   "name": "python",
   "nbconvert_exporter": "python",
   "pygments_lexer": "ipython3",
   "version": "3.11.9"
  }
 },
 "nbformat": 4,
 "nbformat_minor": 5
}
